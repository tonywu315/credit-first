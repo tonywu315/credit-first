{
 "cells": [
  {
   "cell_type": "code",
   "execution_count": 1,
   "metadata": {},
   "outputs": [
    {
     "name": "stdout",
     "output_type": "stream",
     "text": [
      "<selenium.webdriver.remote.webelement.WebElement (session=\"888d90badc712b5974473dfdd2b28d40\", element=\"67260c48-497e-491c-8be7-f152d9c032bd\")>\n"
     ]
    }
   ],
   "source": [
    "from selenium import webdriver\n",
    "from selenium.webdriver.common.by import By\n",
    "import time\n",
    "import json\n",
    "import requests\n",
    "\n",
    "NO_CREDIT = \"https://www.bankrate.com/finance/credit-cards/no-credit-history/\"\n",
    "BAD_CREDIT = \"https://www.bankrate.com/finance/credit-cards/bad-credit/\"\n",
    "FAIR_CREDIT = \"https://www.bankrate.com/finance/credit-cards/fair-credit/\"\n",
    "SECURED_CREDIT = \"https://www.bankrate.com/finance/credit-cards/secured/\"\n",
    "\n",
    "# body = requests.get(NO_CREDIT).text\n",
    "\n",
    "driver = webdriver.Chrome()\n",
    "driver.get(NO_CREDIT)\n",
    "time.sleep(4)\n",
    "\n",
    "cards = driver.find_elements(By.TAG_NAME, \"article\")"
   ]
  },
  {
   "cell_type": "code",
   "execution_count": 7,
   "metadata": {},
   "outputs": [
    {
     "data": {
      "text/plain": [
       "['5%\\nEarn 5% cash back on everyday purchases at different places each quarter like Amazon.com, grocery stores, restaurants, and gas stations, up to the quarterly maximum when you activate.\\n1%\\nPlus, earn unlimited 1% cash back on all other purchases - automatically.',\n",
       " 'Earn 5% cash back on everyday purchases at different places each quarter like Amazon.com, grocery stores, restaurants, and gas stations, up to the quarterly maximum when you activate.',\n",
       " 'Plus, earn unlimited 1% cash back on all other purchases - automatically.',\n",
       " 'Cashback Match™\\nHover for more',\n",
       " '$0',\n",
       " '17.74% - 26.74% Variable APR',\n",
       " 'No Credit History\\nHover for more']"
      ]
     },
     "execution_count": 7,
     "metadata": {},
     "output_type": "execute_result"
    }
   ],
   "source": [
    "cards[0].find_element(By.TAG_NAME, \"a\").find_element(By.TAG_NAME, \"h2\").text\n",
    "[i.text for i in cards[0].find_elements(By.CLASS_NAME, \"type-body-two\") if i.text != '']"
   ]
  },
  {
   "cell_type": "code",
   "execution_count": 26,
   "metadata": {},
   "outputs": [
    {
     "name": "stdout",
     "output_type": "stream",
     "text": [
      "['BEST STUDENT CARD WITH ROTATING BONUS CATEGORIES', 'Discover it® Student Cash Back', 'Apply now', \"on Discover's secure site\", 'Add to compare', 'See Rates & Fees', 'Rating: 4.3 stars out of 5', '4.3', 'Hover for more', 'Bankrate review', 'Rewards Rate', '5%', 'Earn 5% cash back on everyday purchases at different places each quarter like Amazon.com, grocery stores, restaurants, and gas stations, up to the quarterly maximum when you activate.', '1%', 'Plus, earn unlimited 1% cash back on all other purchases - automatically.', 'Intro offer', 'Cashback Match™', 'Hover for more', 'Annual fee', '$0', 'Regular APR', '17.74% - 26.74% Variable APR', 'Recommended credit', 'No Credit History', 'Hover for more', \"Bankrate's View\", 'Card details']\n",
      "['BEST FOR REWARDS', 'Discover it® Secured Credit Card', 'Apply now', \"on Discover's secure site\", 'Add to compare', 'See Rates & Fees', 'Rating: 5 stars out of 5', '5.0', 'Hover for more', 'Bankrate review', 'Rewards Rate', '2%', 'Earn 2% cash back at Gas Stations and Restaurants on up to $1,000 in combined purchases each quarter.', '1%', 'Earn unlimited 1% cash back on all other purchases – automatically.', 'Intro offer', 'Cashback Match™', 'Hover for more', 'Annual fee', '$0', 'Regular APR', '27.74% Variable APR', 'Recommended credit', 'No Credit History', 'Hover for more', \"Bankrate's View\", '', '', 'Card details']\n",
      "[\"EDITOR'S PICK BEST FOR ACCESSING A HIGHER CREDIT LINE\", 'Capital One Platinum Secured Credit Card', 'Apply now', \"on Capital One's secure site\", 'Add to compare', 'Rating: 4.2 stars out of 5', '4.2', 'Hover for more', 'Bankrate review', 'Rewards Rate', 'N/A', 'Intro offer', 'N/A', 'Annual fee', '$0', 'Regular APR', '29.99% (Variable)', 'Recommended credit', 'No Credit History', 'Hover for more', \"Bankrate's View\", 'Card details']\n",
      "['BEST FOR BUILDING CREDIT WITH SAVINGS', 'Self - Credit Builder Account with Secured Visa® Credit Card', 'Apply now', \"on Self's secure site\", 'Add to compare', 'Rating: 3.1 stars out of 5', '3.1', 'Hover for more', 'Bankrate review', 'Rewards Rate', 'N/A', 'Intro offer', 'N/A', 'Annual fee', '$25', 'Regular APR', '26.99% (Variable)', 'Recommended credit', 'No Credit History', 'Hover for more', \"Bankrate's View\", 'Card details']\n",
      "['BEST SECURED CARD FOR FLAT-RATE REWARDS', 'Capital One Quicksilver Secured Cash Rewards Credit Card', 'Apply now', \"on Capital One's secure site\", 'Add to compare', 'Rating: 3.9 stars out of 5', '3.9', 'Hover for more', 'Bankrate review', 'Rewards Rate', '5%', \"Earn unlimited 5% cash back on hotels and rental cars booked through Capital One Travel, where you'll get Capital One's best prices on thousands of trip options. Terms apply\", '1.5%', 'Earn unlimited 1.5% cash back on every purchase, everywhere', 'Intro offer', 'N/A', 'Annual fee', '$0', 'Regular APR', '29.99% (Variable)', 'Recommended credit', 'No Credit History', 'Hover for more', \"Bankrate's View\", 'Card details']\n",
      "['BEST FOR NO CREDIT CHECK', 'OpenSky® Secured Visa® Credit Card', 'Apply now', \"on Capital Bank's secure site\", 'Add to compare', 'Rating: 3.1 stars out of 5', '3.1', 'Hover for more', 'Bankrate review', 'Rewards Rate', 'N/A', 'Intro offer', 'N/A', 'Annual fee', '$35', 'Regular APR', '21.89% (variable)', 'Recommended credit', 'No Credit History', 'Hover for more', \"Bankrate's View\", 'Card details']\n",
      "['BEST FOR PEOPLE WITHOUT SSNS', 'Zolve Azpire Credit Builder Card + Checking Account', 'Apply now', \"on Zolve's secure site\", 'Add to compare', 'See Rates & Fees', 'Rating: 4 stars out of 5', '4.0', 'Hover for more', 'Bankrate review', 'Rewards Rate', '10%', 'Earn up to 10% cash back on 10k+ outlets', 'Intro offer', 'N/A', 'Annual fee', '$0', 'Regular APR', '0% APR', 'Recommended credit', 'No Credit History', 'Hover for more', \"Bankrate's View\", '', '', 'Card details']\n"
     ]
    }
   ],
   "source": [
    "for card in driver.find_elements(By.TAG_NAME, \"article\"):\n",
    "    title = card.find_element(By.TAG_NAME, \"a\").find_element(By.TAG_NAME, \"h2\").text\n",
    "    text = card.text.split(\"\\n\")\n",
    "    cashback = \", \".join(text[text.index(\"Rewards Rate\") + 1: text.index(\"Intro offer\")])\n",
    "    annual_fee = text[text.index(\"Annual fee\") + 1].strip(\"$\")\n",
    "    apr = text[text.index(\"Regular APR\") + 1]\n",
    "    credit = (lambda x: None if x == \"No Credit History\" else x)(text[text.index(\"Recommended credit\") + 1])\n",
    "\n",
    "    print(text)\n",
    "    \n"
   ]
  }
 ],
 "metadata": {
  "kernelspec": {
   "display_name": "Python 3",
   "language": "python",
   "name": "python3"
  },
  "language_info": {
   "codemirror_mode": {
    "name": "ipython",
    "version": 3
   },
   "file_extension": ".py",
   "mimetype": "text/x-python",
   "name": "python",
   "nbconvert_exporter": "python",
   "pygments_lexer": "ipython3",
   "version": "3.8.10"
  },
  "orig_nbformat": 4
 },
 "nbformat": 4,
 "nbformat_minor": 2
}
